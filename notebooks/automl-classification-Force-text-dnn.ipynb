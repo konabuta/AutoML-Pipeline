{
 "cells": [
  {
   "cell_type": "markdown",
   "metadata": {},
   "source": [
    "Copyright (c) Microsoft Corporation. All rights reserved.\n",
    "\n",
    "Licensed under the MIT License."
   ]
  },
  {
   "cell_type": "markdown",
   "metadata": {},
   "source": [
    "# Automated Machine Learning\n",
    "_**ディープラーンニングを利用したテキスト分類**_\n",
    "\n",
    "## Contents\n",
    "1. [事前準備](#1.-事前準備)\n",
    "1. [自動機械学習 Automated Machine Learning](2.-自動機械学習-Automated-Machine-Learning)\n",
    "1. [結果の確認](#3.-結果の確認)"
   ]
  },
  {
   "cell_type": "markdown",
   "metadata": {},
   "source": [
    "## 1. 事前準備\n",
    "\n",
    "本デモンストレーションでは、AutoML の深層学習の機能を用いてテキストデータの分類モデルを構築します。  \n",
    "AutoML には Deep Neural Network が含まれており、テキストデータから **Embedding** を作成することができます。GPU サーバを利用することで **BERT** が利用されます。\n",
    "\n",
    "深層学習の機能を利用するためには Azure Machine Learning の Enterprise Edition が必要になります。詳細は[こちら](https://docs.microsoft.com/en-us/azure/machine-learning/concept-editions#automated-training-capabilities-automl)をご確認ください。"
   ]
  },
  {
   "cell_type": "markdown",
   "metadata": {},
   "source": [
    "## 1.1 Python SDK のインポート"
   ]
  },
  {
   "cell_type": "markdown",
   "metadata": {},
   "source": [
    "Azure Machine Learning の Python SDK などをインポートします。"
   ]
  },
  {
   "cell_type": "code",
   "execution_count": null,
   "metadata": {
    "tags": []
   },
   "outputs": [],
   "source": [
    "import logging\n",
    "import os\n",
    "import shutil\n",
    "\n",
    "import pandas as pd\n",
    "\n",
    "import azureml.core\n",
    "from azureml.core.experiment import Experiment\n",
    "from azureml.core.workspace import Workspace\n",
    "from azureml.core.dataset import Dataset\n",
    "from azureml.core.compute import AmlCompute\n",
    "from azureml.core.compute import ComputeTarget\n",
    "from azureml.core.run import Run\n",
    "from azureml.widgets import RunDetails\n",
    "from azureml.core.model import Model \n",
    "from azureml.train.automl import AutoMLConfig\n",
    "from sklearn.datasets import fetch_20newsgroups"
   ]
  },
  {
   "cell_type": "code",
   "execution_count": null,
   "metadata": {},
   "outputs": [],
   "source": [
    "from azureml.automl.core.featurization import FeaturizationConfig"
   ]
  },
  {
   "cell_type": "markdown",
   "metadata": {},
   "source": [
    "Azure ML Python SDK のバージョンが 1.8.0 以上になっていることを確認します。"
   ]
  },
  {
   "cell_type": "code",
   "execution_count": null,
   "metadata": {
    "tags": []
   },
   "outputs": [],
   "source": [
    "print(\"You are currently using version\", azureml.core.VERSION, \"of the Azure ML SDK\")"
   ]
  },
  {
   "cell_type": "markdown",
   "metadata": {},
   "source": [
    "## 1.2 Azure ML Workspace との接続"
   ]
  },
  {
   "cell_type": "code",
   "execution_count": null,
   "metadata": {},
   "outputs": [],
   "source": [
    "ws = Workspace.from_config()"
   ]
  },
  {
   "cell_type": "code",
   "execution_count": null,
   "metadata": {
    "tags": []
   },
   "outputs": [],
   "source": [
    "\n",
    "# 実験名の指定\n",
    "experiment_name = 'livedoor-news-classification-BERT'\n",
    "\n",
    "experiment = Experiment(ws, experiment_name)\n",
    "\n",
    "output = {}\n",
    "#output['Subscription ID'] = ws.subscription_id\n",
    "output['Workspace Name'] = ws.name\n",
    "output['Resource Group'] = ws.resource_group\n",
    "output['Location'] = ws.location\n",
    "output['Experiment Name'] = experiment.name\n",
    "pd.set_option('display.max_colwidth', -1)\n",
    "outputDf = pd.DataFrame(data = output, index = [''])\n",
    "outputDf.T"
   ]
  },
  {
   "cell_type": "markdown",
   "metadata": {},
   "source": [
    "## 1.3 計算環境の準備\n",
    "\n",
    "BERT を利用するための GPU の `Compute Cluster` を準備します。"
   ]
  },
  {
   "cell_type": "code",
   "execution_count": null,
   "metadata": {
    "tags": []
   },
   "outputs": [],
   "source": [
    "from azureml.core.compute import ComputeTarget, AmlCompute\n",
    "from azureml.core.compute_target import ComputeTargetException\n",
    "\n",
    "# Compute Cluster の名称\n",
    "amlcompute_cluster_name = \"gpucluster\"\n",
    "\n",
    "# クラスターの存在確認\n",
    "try:\n",
    "    compute_target = ComputeTarget(workspace=ws, name=amlcompute_cluster_name)\n",
    "    \n",
    "except ComputeTargetException:\n",
    "    print('指定された名称のクラスターが見つからないので新規に作成します.')\n",
    "    compute_config = AmlCompute.provisioning_configuration(vm_size = \"STANDARD_NC6_V3\",\n",
    "                                                           max_nodes = 4)\n",
    "    compute_target = ComputeTarget.create(ws, amlcompute_cluster_name, compute_config)\n",
    "\n",
    "compute_target.wait_for_completion(show_output=True)"
   ]
  },
  {
   "cell_type": "markdown",
   "metadata": {},
   "source": [
    "## 1.4 学習データの準備\n",
    "今回は [livedoor New](https://www.rondhuit.com/download/ldcc-20140209.tar.gz) を学習データとして利用します。ニュースのカテゴリー分類のモデルを構築します。  "
   ]
  },
  {
   "cell_type": "code",
   "execution_count": null,
   "metadata": {},
   "outputs": [],
   "source": [
    "target_column_name = 'label'  # カテゴリーの列 \n",
    "feature_column_name = 'text'  # ニュース記事の列"
   ]
  },
  {
   "cell_type": "code",
   "execution_count": null,
   "metadata": {},
   "outputs": [],
   "source": [
    "train_dataset = Dataset.get_by_name(ws, \"livedoor\").keep_columns([\"text\",\"label\"])\n",
    "train_dataset.take(5).to_pandas_dataframe()"
   ]
  },
  {
   "cell_type": "markdown",
   "metadata": {},
   "source": [
    "# 2. 自動機械学習 Automated Machine Learning\n",
    "## 2.1 設定と制約条件"
   ]
  },
  {
   "cell_type": "markdown",
   "metadata": {},
   "source": [
    "自動機械学習 Automated Machine Learning の設定と学習を行っていきます。"
   ]
  },
  {
   "cell_type": "code",
   "execution_count": null,
   "metadata": {},
   "outputs": [],
   "source": [
    "from azureml.automl.core.featurization import FeaturizationConfig\n",
    "featurization_config = FeaturizationConfig()\n",
    "# テキストデータの言語を指定します。日本語の場合は \"jpn\" と指定します。\n",
    "featurization_config = FeaturizationConfig(dataset_language=\"jpn\") # 英語の場合は下記をコメントアウトしてください。"
   ]
  },
  {
   "cell_type": "code",
   "execution_count": null,
   "metadata": {},
   "outputs": [],
   "source": [
    "# 明示的に `text` の列がテキストデータであると指定します。\n",
    "featurization_config.add_column_purpose('text', 'Text')\n",
    "#featurization_config.blocked_transformers = ['TfIdf','CountVectorizer']  # BERT のみを利用したい場合はコメントアウトを外します"
   ]
  },
  {
   "cell_type": "code",
   "execution_count": null,
   "metadata": {},
   "outputs": [],
   "source": [
    "# 自動機械学習の設定\n",
    "automl_settings = {\n",
    "    \"experiment_timeout_hours\" : 2,  # 学習時間 (hour)\n",
    "    \"primary_metric\": 'accuracy',  # 評価指標\n",
    "    \"max_concurrent_iterations\": 4,  # 計算環境の最大並列数 \n",
    "    \"max_cores_per_iteration\": -1,\n",
    "    \"enable_dnn\": True, # 深層学習を有効\n",
    "    \"enable_early_stopping\": False,\n",
    "    \"validation_size\": 0.2,\n",
    "    \"verbosity\": logging.INFO,\n",
    "    \"force_text_dnn\": True,\n",
    "    #\"n_cross_validations\": 5,\n",
    "}\n",
    "\n",
    "automl_config = AutoMLConfig(task = 'classification', \n",
    "                             debug_log = 'automl_errors.log',\n",
    "                             compute_target=compute_target,\n",
    "                             training_data=train_dataset,\n",
    "                             label_column_name=target_column_name,\n",
    "                             featurization=featurization_config,\n",
    "                             **automl_settings\n",
    "                            )"
   ]
  },
  {
   "cell_type": "markdown",
   "metadata": {},
   "source": [
    "## 2.2 モデル学習"
   ]
  },
  {
   "cell_type": "markdown",
   "metadata": {},
   "source": [
    "自動機械学習 Automated Machine Learning によるモデル学習を開始します。"
   ]
  },
  {
   "cell_type": "code",
   "execution_count": null,
   "metadata": {
    "tags": []
   },
   "outputs": [],
   "source": [
    "automl_run = experiment.submit(automl_config, show_output=False)"
   ]
  },
  {
   "cell_type": "code",
   "execution_count": null,
   "metadata": {},
   "outputs": [],
   "source": [
    "# run_id を出力\n",
    "automl_run.id"
   ]
  },
  {
   "cell_type": "code",
   "execution_count": null,
   "metadata": {},
   "outputs": [],
   "source": [
    "# Azure Machine Learning studio の URL を出力\n",
    "automl_run"
   ]
  },
  {
   "cell_type": "code",
   "execution_count": null,
   "metadata": {},
   "outputs": [],
   "source": [
    "# # 途中でセッションが切れた場合の対処\n",
    "# from azureml.train.automl.run import AutoMLRun\n",
    "# ws = Workspace.from_config()\n",
    "# experiment = ws.experiments['livedoor-news-classification-BERT'] \n",
    "# run_id = \"AutoML_e69a63ae-ef52-4783-9a9f-527d69d7cc9d\"\n",
    "# automl_run = AutoMLRun(experiment, run_id = run_id)\n",
    "# automl_run\n"
   ]
  },
  {
   "cell_type": "markdown",
   "metadata": {},
   "source": [
    "## 2.3 モデルの登録"
   ]
  },
  {
   "cell_type": "code",
   "execution_count": null,
   "metadata": {},
   "outputs": [],
   "source": [
    "# 一番精度が高いモデルを抽出\n",
    "best_run, fitted_model = automl_run.get_output()"
   ]
  },
  {
   "cell_type": "code",
   "execution_count": null,
   "metadata": {},
   "outputs": [],
   "source": [
    "# モデルファイル(.pkl) のダウンロード\n",
    "model_dir = '../model'\n",
    "best_run.download_file('outputs/model.pkl', model_dir + '/model.pkl')"
   ]
  },
  {
   "cell_type": "code",
   "execution_count": null,
   "metadata": {
    "tags": []
   },
   "outputs": [],
   "source": [
    "# Azure ML へモデル登録\n",
    "model_name = 'livedoor-model'\n",
    "model = Model.register(model_path = model_dir + '/model.pkl',\n",
    "                       model_name = model_name,\n",
    "                       tags=None,\n",
    "                       workspace=ws)"
   ]
  },
  {
   "cell_type": "markdown",
   "metadata": {},
   "source": [
    "# 3. テストデータに対する予測値の出力"
   ]
  },
  {
   "cell_type": "code",
   "execution_count": null,
   "metadata": {},
   "outputs": [],
   "source": [
    "from sklearn.externals import joblib\n",
    "trained_model = joblib.load(model_dir + '/model.pkl')"
   ]
  },
  {
   "cell_type": "code",
   "execution_count": null,
   "metadata": {},
   "outputs": [],
   "source": [
    "trained_model"
   ]
  },
  {
   "cell_type": "code",
   "execution_count": null,
   "metadata": {},
   "outputs": [],
   "source": [
    "test_dataset = Dataset.get_by_name(ws, \"livedoor\").keep_columns([\"text\"])\n",
    "predicted = trained_model.predict_proba(test_dataset.to_pandas_dataframe())"
   ]
  },
  {
   "cell_type": "markdown",
   "metadata": {},
   "source": [
    "# 4. モデルの解釈\n",
    "一番精度が良かったチャンピョンモデルを選択し、モデルの解釈をしていきます。  \n",
    "モデルに含まれるライブラリを予め Python 環境にインストールする必要があります。[automl_env.yml](https://github.com/Azure/MachineLearningNotebooks/blob/master/how-to-use-azureml/automated-machine-learning/automl_env.yml)を用いて、conda の仮想環境に必要なパッケージをインストールしてください。"
   ]
  },
  {
   "cell_type": "code",
   "execution_count": null,
   "metadata": {},
   "outputs": [],
   "source": [
    "# 特徴量エンジニアリング後の変数名の確認\n",
    "fitted_model.named_steps['datatransformer'].get_json_strs_for_engineered_feature_names()\n",
    "#fitted_model.named_steps['datatransformer']. get_engineered_feature_names ()"
   ]
  },
  {
   "cell_type": "code",
   "execution_count": null,
   "metadata": {
    "scrolled": true
   },
   "outputs": [],
   "source": [
    "# 特徴エンジニアリングのプロセスの可視化\n",
    "text_transformations_used = []\n",
    "for column_group in fitted_model.named_steps['datatransformer'].get_featurization_summary():\n",
    "    text_transformations_used.extend(column_group['Transformations'])\n",
    "text_transformations_used"
   ]
  },
  {
   "cell_type": "code",
   "execution_count": null,
   "metadata": {},
   "outputs": [],
   "source": []
  },
  {
   "cell_type": "code",
   "execution_count": null,
   "metadata": {},
   "outputs": [],
   "source": []
  }
 ],
 "metadata": {
  "authors": [
   {
    "name": "anshirga"
   }
  ],
  "compute": [
   "AML Compute"
  ],
  "datasets": [
   "None"
  ],
  "deployment": [
   "None"
  ],
  "exclude_from_index": false,
  "framework": [
   "None"
  ],
  "friendly_name": "DNN Text Featurization",
  "index_order": 2,
  "kernel_info": {
   "name": "azureml180"
  },
  "kernelspec": {
   "display_name": "Python 3.6 - AzureML",
   "language": "python",
   "name": "python3-azureml"
  },
  "language_info": {
   "codemirror_mode": {
    "name": "ipython",
    "version": 3
   },
   "file_extension": ".py",
   "mimetype": "text/x-python",
   "name": "python",
   "nbconvert_exporter": "python",
   "pygments_lexer": "ipython3",
   "version": "3.6.9"
  },
  "nteract": {
   "version": "nteract-front-end@1.0.0"
  },
  "tags": [
   "None"
  ],
  "task": "Text featurization using DNNs for classification"
 },
 "nbformat": 4,
 "nbformat_minor": 4
}
