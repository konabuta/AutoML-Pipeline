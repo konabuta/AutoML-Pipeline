{
 "metadata": {
  "language_info": {
   "codemirror_mode": {
    "name": "ipython",
    "version": 3
   },
   "file_extension": ".py",
   "mimetype": "text/x-python",
   "name": "python",
   "nbconvert_exporter": "python",
   "pygments_lexer": "ipython3",
   "version": "3.6.9-final"
  },
  "orig_nbformat": 2,
  "kernelspec": {
   "name": "python3",
   "display_name": "Python 3"
  }
 },
 "nbformat": 4,
 "nbformat_minor": 2,
 "cells": [
  {
   "cell_type": "markdown",
   "metadata": {},
   "source": [
    "# 日本語テキストデータの準備"
   ]
  },
  {
   "cell_type": "code",
   "execution_count": null,
   "metadata": {},
   "outputs": [],
   "source": [
    "from azureml.core import Workspace, Datastore, Dataset\n",
    "import pandas as pd"
   ]
  },
  {
   "cell_type": "markdown",
   "metadata": {},
   "source": [
    "Livedoor ニュースのコーパスをダウンロードして利用します。"
   ]
  },
  {
   "cell_type": "code",
   "execution_count": null,
   "metadata": {},
   "outputs": [],
   "source": [
    "from urllib.request import urlretrieve\n",
    "import tarfile\n",
    "\n",
    "text_url = \"https://www.rondhuit.com/download/ldcc-20140209.tar.gz\"\n",
    "file_path = \"../data/raw/ldcc-20140209.tar.gz\"\n",
    "urlretrieve(text_url, file_path)"
   ]
  },
  {
   "cell_type": "code",
   "execution_count": null,
   "metadata": {},
   "outputs": [],
   "source": [
    "# gz ファイルを解凍します。そこそこ時間がかかります。\n",
    "with tarfile.open('../data/raw/ldcc-20140209.tar.gz', 'r:gz') as tar:\n",
    "    tar.extractall(path='../data/processed/livedoor')\n",
    "    tar.close()"
   ]
  },
  {
   "cell_type": "markdown",
   "metadata": {},
   "source": [
    "Pandas DataFrame へのロード"
   ]
  },
  {
   "cell_type": "code",
   "execution_count": null,
   "metadata": {},
   "outputs": [],
   "source": [
    "columns = ['url', 'date', 'label', 'title', 'text']\n",
    "df = pd.DataFrame(columns = columns)\n",
    "#df.set_index('url',inplace=True)"
   ]
  },
  {
   "cell_type": "code",
   "execution_count": null,
   "metadata": {},
   "outputs": [],
   "source": [
    "path = \"../data/processed/livedoor/text\"\n"
   ]
  },
  {
   "cell_type": "code",
   "execution_count": null,
   "metadata": {
    "tags": []
   },
   "outputs": [],
   "source": [
    "for folder_name in os.listdir(path):\n",
    "    print(folder_name)\n",
    "    if folder_name.endswith(\".txt\") :\n",
    "        continue\n",
    "    for file in os.listdir(os.path.join(path, folder_name)):\n",
    "        if folder_name == \"LICENSE.txt\" :\n",
    "            continue\n",
    "        with open(os.path.join(path, folder_name, file), 'r') as f:\n",
    "            lines = f.read().split('\\n')\n",
    "            if len(lines) == 1:\n",
    "                continue\n",
    "            url = lines[0]\n",
    "            date = lines[1]\n",
    "            label = folder_name\n",
    "            title = lines[3]\n",
    "            text = \"\".join(lines[4:])\n",
    "            data = {'url': url, 'date':date, 'label': label, 'title':title, 'text':text}\n",
    "        s = pd.Series(data)        \n",
    "        df = df.append(s, ignore_index=True)\n"
   ]
  },
  {
   "cell_type": "code",
   "execution_count": null,
   "metadata": {},
   "outputs": [],
   "source": [
    "df.to_csv(\"../data/processed/livedoor-corpus.csv\", index=False)\n"
   ]
  },
  {
   "cell_type": "markdown",
   "metadata": {},
   "source": [
    "# Azure Machine Learning Dataset 登録"
   ]
  },
  {
   "cell_type": "code",
   "execution_count": null,
   "metadata": {
    "tags": []
   },
   "outputs": [],
   "source": [
    "# Azure ML Workspace への接続\n",
    "ws = Workspace.from_config()\n",
    "print(ws)"
   ]
  },
  {
   "cell_type": "code",
   "execution_count": null,
   "metadata": {},
   "outputs": [],
   "source": [
    "# Azure ML Workspace のデフォルトの Datastore を利用\n",
    "datastore = ws.get_default_datastore()\n",
    "datastore.upload_files(files=['../data/processed/livedoor-corpus.csv'],\n",
    "                       target_path='livedoor-corpus',\n",
    "                       overwrite=True,\n",
    "                       show_progress=False)"
   ]
  },
  {
   "cell_type": "code",
   "execution_count": null,
   "metadata": {},
   "outputs": [],
   "source": [
    "datastore_path = [(datastore, 'livedoor-corpus/livedoor-corpus.csv')]\n"
   ]
  },
  {
   "cell_type": "code",
   "execution_count": null,
   "metadata": {},
   "outputs": [],
   "source": [
    "livedoor_ds = Dataset.Tabular.from_delimited_files(path=datastore_path)\n"
   ]
  },
  {
   "cell_type": "code",
   "execution_count": null,
   "metadata": {},
   "outputs": [],
   "source": [
    "# Dataset の登録 (Tabular 形式)\n",
    "livedoor_ds.register(workspace=ws, name='livedoor',description='livedoor corpus', create_new_version = True)\n"
   ]
  },
  {
   "cell_type": "code",
   "execution_count": null,
   "metadata": {},
   "outputs": [],
   "source": [
    "# 登録した Dataset の呼び出し\n",
    "dataset = Dataset.get_by_name(ws, name='livedoor')\n",
    "df = dataset.to_pandas_dataframe()"
   ]
  },
  {
   "cell_type": "code",
   "execution_count": null,
   "metadata": {},
   "outputs": [],
   "source": [
    "# 欠損値の除外\n",
    "df = df[pd.isna(df[\"text\"])==False]\n",
    "df.head()\n"
   ]
  },
  {
   "cell_type": "code",
   "execution_count": null,
   "metadata": {},
   "outputs": [],
   "source": []
  }
 ]
}