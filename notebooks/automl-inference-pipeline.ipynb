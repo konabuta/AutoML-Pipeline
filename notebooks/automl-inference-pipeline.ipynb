{
 "metadata": {
  "language_info": {
   "codemirror_mode": {
    "name": "ipython",
    "version": 3
   },
   "file_extension": ".py",
   "mimetype": "text/x-python",
   "name": "python",
   "nbconvert_exporter": "python",
   "pygments_lexer": "ipython3",
   "version": "3.6.9-final"
  },
  "orig_nbformat": 2,
  "kernelspec": {
   "name": "python3",
   "display_name": "Python 3"
  }
 },
 "nbformat": 4,
 "nbformat_minor": 2,
 "cells": [
  {
   "cell_type": "code",
   "execution_count": 15,
   "metadata": {
    "tags": []
   },
   "outputs": [],
   "source": [
    "from azureml.core import Workspace, Experiment, Dataset, Model\n",
    "from azureml.core import Environment"
   ]
  },
  {
   "cell_type": "code",
   "execution_count": 16,
   "metadata": {},
   "outputs": [],
   "source": [
    "ws = Workspace.from_config()"
   ]
  },
  {
   "cell_type": "code",
   "execution_count": 17,
   "metadata": {},
   "outputs": [],
   "source": [
    "experiment_name = 'livedoor-news-classification-BERT-pipeline-inference'\n",
    "experiment = Experiment(ws, experiment_name)"
   ]
  },
  {
   "cell_type": "code",
   "execution_count": 18,
   "metadata": {
    "tags": []
   },
   "outputs": [
    {
     "output_type": "stream",
     "name": "stdout",
     "text": "Succeeded\nAmlCompute wait for completion finished\n\nMinimum number of nodes requested have been provisioned\n"
    }
   ],
   "source": [
    "from azureml.core.compute import ComputeTarget, AmlCompute\n",
    "from azureml.core.compute_target import ComputeTargetException\n",
    "\n",
    "# Compute Cluster の名称\n",
    "amlcompute_cluster_name = \"gpucluster\"\n",
    "\n",
    "# クラスターの存在確認\n",
    "try:\n",
    "    compute_target = ComputeTarget(workspace=ws, name=amlcompute_cluster_name)\n",
    "    \n",
    "except ComputeTargetException:\n",
    "    print('指定された名称のクラスターが見つからないので新規に作成します.')\n",
    "    compute_config = AmlCompute.provisioning_configuration(vm_size = \"STANDARD_NC6_V3\",\n",
    "                                                           max_nodes = 4)\n",
    "    compute_target = ComputeTarget.create(ws, amlcompute_cluster_name, compute_config)\n",
    "\n",
    "compute_target.wait_for_completion(show_output=True)"
   ]
  },
  {
   "cell_type": "code",
   "execution_count": 19,
   "metadata": {},
   "outputs": [],
   "source": [
    "my_dataset = Dataset.get_by_name(ws, \"livedoor\").keep_columns([\"text\"])\n"
   ]
  },
  {
   "cell_type": "code",
   "execution_count": 20,
   "metadata": {},
   "outputs": [],
   "source": [
    "project_folder = '../code/deployment'"
   ]
  },
  {
   "cell_type": "code",
   "execution_count": 21,
   "metadata": {
    "tags": []
   },
   "outputs": [
    {
     "output_type": "execute_result",
     "data": {
      "text/plain": "['AzureML-Tutorial',\n 'AzureML-Minimal',\n 'AzureML-Chainer-5.1.0-GPU',\n 'AzureML-PyTorch-1.2-CPU',\n 'AzureML-TensorFlow-1.12-CPU',\n 'AzureML-TensorFlow-1.13-CPU',\n 'AzureML-PyTorch-1.1-CPU',\n 'AzureML-TensorFlow-1.10-CPU',\n 'AzureML-PyTorch-1.0-GPU',\n 'AzureML-TensorFlow-1.12-GPU',\n 'AzureML-TensorFlow-1.13-GPU',\n 'AzureML-Chainer-5.1.0-CPU',\n 'AzureML-PyTorch-1.0-CPU',\n 'AzureML-Scikit-learn-0.20.3',\n 'AzureML-PyTorch-1.2-GPU',\n 'AzureML-PyTorch-1.1-GPU',\n 'AzureML-TensorFlow-1.10-GPU',\n 'AzureML-PyTorch-1.3-GPU',\n 'AzureML-TensorFlow-2.0-CPU',\n 'AzureML-PyTorch-1.3-CPU',\n 'AzureML-TensorFlow-2.0-GPU',\n 'AzureML-PySpark-MmlSpark-0.15',\n 'AzureML-AutoML',\n 'AzureML-PyTorch-1.4-GPU',\n 'AzureML-PyTorch-1.4-CPU',\n 'AzureML-VowpalWabbit-8.8.0',\n 'AzureML-Hyperdrive-ForecastDNN',\n 'AzureML-AutoML-GPU',\n 'AzureML-AutoML-DNN-GPU',\n 'AzureML-AutoML-DNN',\n 'AzureML-Designer-R',\n 'AzureML-Designer-Recommender',\n 'AzureML-Designer-Transform',\n 'AzureML-Designer',\n 'AzureML-Designer-IO',\n 'AzureML-Designer-NLP',\n 'AzureML-Dask-CPU',\n 'AzureML-Dask-GPU',\n 'AzureML-PyTorch-1.5-CPU',\n 'AzureML-PyTorch-1.5-GPU',\n 'AzureML-Sidecar',\n 'AzureML-Designer-CV-Transform',\n 'AzureML-Designer-Score',\n 'AzureML-Designer-PyTorch',\n 'AzureML-Designer-CV',\n 'AzureML-TensorFlow-2.1-GPU',\n 'AzureML-TensorFlow-2.1-CPU',\n 'AzureML-Designer-PyTorch-Train',\n 'AzureML-AutoML-DNN-Vision-GPU',\n 'AzureML-Designer-VowpalWabbit',\n 'AzureML-TensorFlow-2.2-GPU',\n 'AzureML-TensorFlow-2.2-CPU',\n 'AzureML-PyTorch-1.6-CPU',\n 'AzureML-PyTorch-1.6-GPU']"
     },
     "metadata": {},
     "execution_count": 21
    }
   ],
   "source": [
    "envs = Environment.list(workspace=ws)\n",
    "[env if env.startswith(\"AzureML\") else None for env in envs]"
   ]
  },
  {
   "cell_type": "code",
   "execution_count": 22,
   "metadata": {},
   "outputs": [],
   "source": [
    "env =  Environment.get(workspace=ws, name='AzureML-AutoML-DNN-GPU')"
   ]
  },
  {
   "cell_type": "code",
   "execution_count": 23,
   "metadata": {},
   "outputs": [],
   "source": [
    "from azureml.core.runconfig import RunConfiguration\n",
    "run_config = RunConfiguration()\n",
    "run_config.environment.docker.enabled = True\n",
    "run_config.environment = env"
   ]
  },
  {
   "cell_type": "code",
   "execution_count": 24,
   "metadata": {},
   "outputs": [],
   "source": [
    "from azureml.pipeline.steps import PythonScriptStep\n",
    "\n",
    "ds_input = my_dataset.as_named_input('input1')\n",
    "\n",
    "inferenceStep = PythonScriptStep(\n",
    "    script_name=\"inference_script.py\",\n",
    "    inputs=[ds_input],\n",
    "    compute_target=compute_target,\n",
    "    source_directory=project_folder,\n",
    "    runconfig=run_config,\n",
    "    allow_reuse=True\n",
    ")"
   ]
  },
  {
   "cell_type": "code",
   "execution_count": null,
   "metadata": {},
   "outputs": [],
   "source": []
  },
  {
   "cell_type": "code",
   "execution_count": 25,
   "metadata": {},
   "outputs": [],
   "source": [
    "from azureml.pipeline.core import Pipeline\n",
    "pipeline = Pipeline(\n",
    "    description=\"pipeline_with_automlstep\",\n",
    "    workspace=ws,    \n",
    "    steps=[inferenceStep])"
   ]
  },
  {
   "cell_type": "code",
   "execution_count": 26,
   "metadata": {
    "tags": []
   },
   "outputs": [
    {
     "output_type": "stream",
     "name": "stdout",
     "text": "Pipeline validation complete\n"
    }
   ],
   "source": [
    "pipeline.validate()\n",
    "print(\"Pipeline validation complete\")"
   ]
  },
  {
   "cell_type": "code",
   "execution_count": 27,
   "metadata": {
    "tags": []
   },
   "outputs": [
    {
     "output_type": "stream",
     "name": "stdout",
     "text": "Created step inference_script.py [cdbee0e7][32f4914a-a3bb-4c59-98eb-65598a83b76c], (This step is eligible to reuse a previous run's output)\nSubmitted PipelineRun b402a232-425e-4348-83e4-2e14868860cc\nLink to Azure Machine Learning Portal: https://ml.azure.com/experiments/livedoor-news-classification-BERT-pipeline-inference/runs/b402a232-425e-4348-83e4-2e14868860cc?wsid=/subscriptions/9c0f91b8-eb2f-484c-979c-15848c098a6b/resourcegroups/azureml_text/workspaces/azureml_text\n"
    }
   ],
   "source": [
    "pipeline_run = experiment.submit(pipeline)"
   ]
  },
  {
   "cell_type": "code",
   "execution_count": 28,
   "metadata": {},
   "outputs": [
    {
     "data": {
      "application/vnd.jupyter.widget-view+json": {
       "model_id": "0323f14e9cf74dfbabcb74b42dfc624a",
       "version_major": 2,
       "version_minor": 0
      },
      "text/plain": "_PipelineWidget(widget_settings={'childWidgetDisplay': 'popup', 'send_telemetry': False, 'log_level': 'INFO', …"
     },
     "metadata": {},
     "output_type": "display_data"
    },
    {
     "data": {
      "application/aml.mini.widget.v1": "{\"status\": \"NotStarted\", \"workbench_run_details_uri\": \"https://ml.azure.com/experiments/livedoor-news-classification-BERT-pipeline-inference/runs/b402a232-425e-4348-83e4-2e14868860cc?wsid=/subscriptions/9c0f91b8-eb2f-484c-979c-15848c098a6b/resourcegroups/azureml_text/workspaces/azureml_text\", \"run_id\": \"b402a232-425e-4348-83e4-2e14868860cc\", \"run_properties\": {\"run_id\": \"b402a232-425e-4348-83e4-2e14868860cc\", \"created_utc\": \"2020-08-19T18:26:12.764422Z\", \"properties\": {\"azureml.runsource\": \"azureml.PipelineRun\", \"runSource\": \"SDK\", \"runType\": \"SDK\", \"azureml.parameters\": \"{}\"}, \"tags\": {\"azureml.pipelineComponent\": \"pipelinerun\"}, \"end_time_utc\": null, \"status\": \"NotStarted\", \"log_files\": {}, \"log_groups\": [], \"run_duration\": \"0:00:01\"}, \"child_runs\": [{\"run_id\": \"\", \"name\": \"inference_script.py\", \"status\": \"NotStarted\", \"start_time\": \"\", \"created_time\": \"\", \"end_time\": \"\", \"duration\": \"\"}], \"children_metrics\": {}, \"run_metrics\": [], \"run_logs\": \"Your job is submitted in Azure cloud and we are monitoring to get logs...\", \"graph\": {\"datasource_nodes\": {\"a0197fd2\": {\"node_id\": \"a0197fd2\", \"name\": \"e3b4f020-5c35-42ad-b1f4-fff5354ca591\"}}, \"module_nodes\": {\"cdbee0e7\": {\"node_id\": \"cdbee0e7\", \"name\": \"inference_script.py\", \"status\": \"NotStarted\"}}, \"edges\": [{\"source_node_id\": \"a0197fd2\", \"source_node_name\": \"e3b4f020-5c35-42ad-b1f4-fff5354ca591\", \"source_name\": \"data\", \"target_name\": \"input1\", \"dst_node_id\": \"cdbee0e7\", \"dst_node_name\": \"inference_script.py\"}], \"child_runs\": [{\"run_id\": \"\", \"name\": \"inference_script.py\", \"status\": \"NotStarted\", \"start_time\": \"\", \"created_time\": \"\", \"end_time\": \"\", \"duration\": \"\"}]}, \"widget_settings\": {\"childWidgetDisplay\": \"popup\", \"send_telemetry\": false, \"log_level\": \"INFO\", \"sdk_version\": \"1.11.0\"}, \"loading\": false}"
     },
     "metadata": {},
     "output_type": "display_data"
    }
   ],
   "source": [
    "from azureml.widgets import RunDetails\n",
    "RunDetails(pipeline_run).show()"
   ]
  },
  {
   "cell_type": "code",
   "execution_count": null,
   "metadata": {},
   "outputs": [],
   "source": []
  }
 ]
}