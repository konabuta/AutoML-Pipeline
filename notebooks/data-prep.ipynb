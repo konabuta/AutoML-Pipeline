{
 "metadata": {
  "language_info": {
   "codemirror_mode": {
    "name": "ipython",
    "version": 3
   },
   "file_extension": ".py",
   "mimetype": "text/x-python",
   "name": "python",
   "nbconvert_exporter": "python",
   "pygments_lexer": "ipython3",
   "version": "3.6.9-final"
  },
  "orig_nbformat": 2,
  "kernelspec": {
   "name": "python3",
   "display_name": "Python 3"
  }
 },
 "nbformat": 4,
 "nbformat_minor": 2,
 "cells": [
  {
   "cell_type": "code",
   "execution_count": 7,
   "metadata": {},
   "outputs": [],
   "source": [
    "from azureml.core import Workspace, Datastore, Dataset\n",
    "import pandas as pd"
   ]
  },
  {
   "cell_type": "markdown",
   "metadata": {},
   "source": [
    "Livedoor ニュースのコーパスをダウンロードして利用します。"
   ]
  },
  {
   "cell_type": "code",
   "execution_count": 1,
   "metadata": {},
   "outputs": [
    {
     "output_type": "execute_result",
     "data": {
      "text/plain": "('../data/raw/ldcc-20140209.tar.gz',\n <http.client.HTTPMessage at 0x7fe4fc597e48>)"
     },
     "metadata": {},
     "execution_count": 1
    }
   ],
   "source": [
    "from urllib.request import urlretrieve\n",
    "import tarfile\n",
    "\n",
    "text_url = \"https://www.rondhuit.com/download/ldcc-20140209.tar.gz\"\n",
    "file_path = \"../data/raw/ldcc-20140209.tar.gz\"\n",
    "urlretrieve(text_url, file_path)"
   ]
  },
  {
   "cell_type": "code",
   "execution_count": 3,
   "metadata": {},
   "outputs": [],
   "source": [
    "# gz ファイルを解凍します。そこそこ時間がかかります。\n",
    "with tarfile.open('../data/raw/ldcc-20140209.tar.gz', 'r:gz') as tar:\n",
    "    tar.extractall(path='../data/processed/livedoor')\n",
    "    tar.close()"
   ]
  },
  {
   "cell_type": "markdown",
   "metadata": {},
   "source": [
    "Pandas DataFrame へのロード"
   ]
  },
  {
   "cell_type": "code",
   "execution_count": 8,
   "metadata": {},
   "outputs": [],
   "source": [
    "columns = ['url', 'date', 'label', 'title', 'text']\n",
    "df = pd.DataFrame(columns = columns)\n",
    "#df.set_index('url',inplace=True)"
   ]
  },
  {
   "cell_type": "code",
   "execution_count": 10,
   "metadata": {},
   "outputs": [],
   "source": [
    "path = \"../data/processed/livedoor/text\"\n"
   ]
  },
  {
   "cell_type": "code",
   "execution_count": 11,
   "metadata": {
    "tags": []
   },
   "outputs": [
    {
     "output_type": "stream",
     "name": "stdout",
     "text": "CHANGES.txt\ndokujo-tsushin\nit-life-hack\nkaden-channel\nlivedoor-homme\nmovie-enter\npeachy\nREADME.txt\nsmax\nsports-watch\ntopic-news\n"
    }
   ],
   "source": [
    "for folder_name in os.listdir(path):\n",
    "    print(folder_name)\n",
    "    if folder_name.endswith(\".txt\") :\n",
    "        continue\n",
    "    for file in os.listdir(os.path.join(path, folder_name)):\n",
    "        if folder_name == \"LICENSE.txt\" :\n",
    "            continue\n",
    "        with open(os.path.join(path, folder_name, file), 'r') as f:\n",
    "            lines = f.read().split('\\n')\n",
    "            if len(lines) == 1:\n",
    "                continue\n",
    "            url = lines[0]\n",
    "            date = lines[1]\n",
    "            label = folder_name\n",
    "            title = lines[3]\n",
    "            text = \"\".join(lines[4:])\n",
    "            data = {'url': url, 'date':date, 'label': label, 'title':title, 'text':text}\n",
    "        s = pd.Series(data)        \n",
    "        df = df.append(s, ignore_index=True)\n"
   ]
  },
  {
   "cell_type": "code",
   "execution_count": 12,
   "metadata": {},
   "outputs": [],
   "source": [
    "df.to_csv(\"../data/processed/livedoor-corpus.csv\", index=False)\n"
   ]
  },
  {
   "cell_type": "markdown",
   "metadata": {},
   "source": [
    "## Azure Machine Learning ワークスペース接続"
   ]
  },
  {
   "cell_type": "code",
   "execution_count": 14,
   "metadata": {
    "tags": []
   },
   "outputs": [
    {
     "output_type": "stream",
     "name": "stdout",
     "text": "Workspace.create(name='azureml_text', subscription_id='9c0f91b8-eb2f-484c-979c-15848c098a6b', resource_group='azureml_text')\n"
    }
   ],
   "source": [
    "ws = Workspace.from_config()\n",
    "print(ws)"
   ]
  },
  {
   "cell_type": "code",
   "execution_count": 15,
   "metadata": {},
   "outputs": [
    {
     "output_type": "execute_result",
     "data": {
      "text/plain": "$AZUREML_DATAREFERENCE_8464dd6d342b4ffdbc8061e39cb59f1e"
     },
     "metadata": {},
     "execution_count": 15
    }
   ],
   "source": [
    "datastore = ws.get_default_datastore()\n",
    "datastore.upload_files(files=['../data/processed/livedoor-corpus.csv'],\n",
    "                       target_path='livedoor-corpus',\n",
    "                       overwrite=True,\n",
    "                       show_progress=False)"
   ]
  },
  {
   "cell_type": "code",
   "execution_count": 16,
   "metadata": {},
   "outputs": [],
   "source": [
    "datastore_path = [(datastore, 'livedoor-corpus/livedoor-corpus.csv')]\n"
   ]
  },
  {
   "cell_type": "code",
   "execution_count": 17,
   "metadata": {},
   "outputs": [],
   "source": [
    "livedoor_ds = Dataset.Tabular.from_delimited_files(path=datastore_path)\n"
   ]
  },
  {
   "cell_type": "code",
   "execution_count": 18,
   "metadata": {},
   "outputs": [
    {
     "output_type": "execute_result",
     "data": {
      "text/plain": "{\n  \"source\": [\n    \"('workspaceblobstore', 'livedoor-corpus/livedoor-corpus.csv')\"\n  ],\n  \"definition\": [\n    \"GetDatastoreFiles\",\n    \"ParseDelimited\",\n    \"DropColumns\",\n    \"SetColumnTypes\"\n  ],\n  \"registration\": {\n    \"id\": \"38aa3b80-d633-4a05-ab9a-186a3ce51ffc\",\n    \"name\": \"livedoor\",\n    \"version\": 2,\n    \"description\": \"livedoor corpus\",\n    \"workspace\": \"Workspace.create(name='azureml_text', subscription_id='9c0f91b8-eb2f-484c-979c-15848c098a6b', resource_group='azureml_text')\"\n  }\n}"
     },
     "metadata": {},
     "execution_count": 18
    }
   ],
   "source": [
    "livedoor_ds.register(workspace=ws, name='livedoor',description='livedoor corpus', create_new_version = True)\n"
   ]
  },
  {
   "cell_type": "code",
   "execution_count": 19,
   "metadata": {},
   "outputs": [],
   "source": [
    "dataset = Dataset.get_by_name(ws, name='livedoor')\n",
    "df = dataset.to_pandas_dataframe()"
   ]
  },
  {
   "cell_type": "code",
   "execution_count": 20,
   "metadata": {},
   "outputs": [
    {
     "output_type": "execute_result",
     "data": {
      "text/plain": "                                                url                date  \\\n0  http://news.livedoor.com/article/detail/4778030/ 2010-05-22 05:30:00   \n1  http://news.livedoor.com/article/detail/4778031/ 2010-05-21 05:30:00   \n2  http://news.livedoor.com/article/detail/4782522/ 2010-05-23 02:00:00   \n3  http://news.livedoor.com/article/detail/4788357/ 2010-05-25 05:00:00   \n4  http://news.livedoor.com/article/detail/4788362/ 2010-05-26 05:00:00   \n\n            label                                              title  \\\n0  dokujo-tsushin  　もうすぐジューン・ブライドと呼ばれる６月。独女の中には自分の式はまだなのに呼ばれてばかり…...   \n1  dokujo-tsushin  　携帯電話が普及する以前、恋人への連絡ツールは一般電話が普通だった。恋人と別れたら、手帳に書...   \n2  dokujo-tsushin  　「男性はやっぱり、女性の“すっぴん”が大好きなんですかね」と不満そうに話すのは、出版関係で...   \n3  dokujo-tsushin  　ヒップの加齢による変化は「たわむ→下がる→内に流れる」、バストは「そげる→たわむ→外に流れ...   \n4  dokujo-tsushin  　6月から支給される子ども手当だが、当初は子ども一人当たり月額2万6000円が支給されるはず...   \n\n                                                text  \n0  　「お願いがあるんだけど……友人代表のスピーチ、やってくれないかな？」　さてそんなとき、独女...  \n1  　「5年前に別れた彼からメールが届いてビックリしました」とは尚美さん（36歳）　「彼の浮気が...  \n2  　今年に入ってから、“すっぴん”をブログで披露した芸能人は、小倉優子、安倍なつみ、モーニング...  \n3  　これは、４月に開催されたワコール人間科学研究所の記者発表「からだのエイジング（加齢による体...  \n4  　先日は在日外国人男性がタイで養子縁組をしたと称する554人分の子ども手当を申請しようとして...  ",
      "text/html": "<div>\n<style scoped>\n    .dataframe tbody tr th:only-of-type {\n        vertical-align: middle;\n    }\n\n    .dataframe tbody tr th {\n        vertical-align: top;\n    }\n\n    .dataframe thead th {\n        text-align: right;\n    }\n</style>\n<table border=\"1\" class=\"dataframe\">\n  <thead>\n    <tr style=\"text-align: right;\">\n      <th></th>\n      <th>url</th>\n      <th>date</th>\n      <th>label</th>\n      <th>title</th>\n      <th>text</th>\n    </tr>\n  </thead>\n  <tbody>\n    <tr>\n      <th>0</th>\n      <td>http://news.livedoor.com/article/detail/4778030/</td>\n      <td>2010-05-22 05:30:00</td>\n      <td>dokujo-tsushin</td>\n      <td>もうすぐジューン・ブライドと呼ばれる６月。独女の中には自分の式はまだなのに呼ばれてばかり…...</td>\n      <td>「お願いがあるんだけど……友人代表のスピーチ、やってくれないかな？」　さてそんなとき、独女...</td>\n    </tr>\n    <tr>\n      <th>1</th>\n      <td>http://news.livedoor.com/article/detail/4778031/</td>\n      <td>2010-05-21 05:30:00</td>\n      <td>dokujo-tsushin</td>\n      <td>携帯電話が普及する以前、恋人への連絡ツールは一般電話が普通だった。恋人と別れたら、手帳に書...</td>\n      <td>「5年前に別れた彼からメールが届いてビックリしました」とは尚美さん（36歳）　「彼の浮気が...</td>\n    </tr>\n    <tr>\n      <th>2</th>\n      <td>http://news.livedoor.com/article/detail/4782522/</td>\n      <td>2010-05-23 02:00:00</td>\n      <td>dokujo-tsushin</td>\n      <td>「男性はやっぱり、女性の“すっぴん”が大好きなんですかね」と不満そうに話すのは、出版関係で...</td>\n      <td>今年に入ってから、“すっぴん”をブログで披露した芸能人は、小倉優子、安倍なつみ、モーニング...</td>\n    </tr>\n    <tr>\n      <th>3</th>\n      <td>http://news.livedoor.com/article/detail/4788357/</td>\n      <td>2010-05-25 05:00:00</td>\n      <td>dokujo-tsushin</td>\n      <td>ヒップの加齢による変化は「たわむ→下がる→内に流れる」、バストは「そげる→たわむ→外に流れ...</td>\n      <td>これは、４月に開催されたワコール人間科学研究所の記者発表「からだのエイジング（加齢による体...</td>\n    </tr>\n    <tr>\n      <th>4</th>\n      <td>http://news.livedoor.com/article/detail/4788362/</td>\n      <td>2010-05-26 05:00:00</td>\n      <td>dokujo-tsushin</td>\n      <td>6月から支給される子ども手当だが、当初は子ども一人当たり月額2万6000円が支給されるはず...</td>\n      <td>先日は在日外国人男性がタイで養子縁組をしたと称する554人分の子ども手当を申請しようとして...</td>\n    </tr>\n  </tbody>\n</table>\n</div>"
     },
     "metadata": {},
     "execution_count": 20
    }
   ],
   "source": [
    "# 欠損値の除外\n",
    "df = df[pd.isna(df[\"text\"])==False]\n",
    "df.head()\n"
   ]
  },
  {
   "cell_type": "code",
   "execution_count": null,
   "metadata": {},
   "outputs": [],
   "source": []
  }
 ]
}